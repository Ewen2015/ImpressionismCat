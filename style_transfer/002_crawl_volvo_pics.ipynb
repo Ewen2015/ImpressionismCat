{
 "cells": [
  {
   "cell_type": "code",
   "execution_count": 2,
   "id": "2141729d-4969-4314-835f-dc1d8befb46f",
   "metadata": {},
   "outputs": [],
   "source": [
    "# pip install requests bs4 tqdm"
   ]
  },
  {
   "cell_type": "code",
   "execution_count": 3,
   "id": "9971c3de-e4b8-4c41-be51-43f7f136185e",
   "metadata": {},
   "outputs": [],
   "source": [
    "import requests\n",
    "import os\n",
    "from tqdm import tqdm\n",
    "from bs4 import BeautifulSoup as bs\n",
    "from urllib.parse import urljoin, urlparse"
   ]
  },
  {
   "cell_type": "code",
   "execution_count": 11,
   "id": "38e01c51-e3e9-4185-bc8d-abe570fa5a4b",
   "metadata": {},
   "outputs": [],
   "source": [
    "import matplotlib.pylab as plt"
   ]
  },
  {
   "cell_type": "code",
   "execution_count": 17,
   "id": "dff276dd-39e5-4c0e-9479-794b09699698",
   "metadata": {},
   "outputs": [],
   "source": [
    "import functools\n",
    "import tensorflow as tf"
   ]
  },
  {
   "cell_type": "code",
   "execution_count": 4,
   "id": "56f57894-e16b-4b4c-a61a-d6c7d252d3d4",
   "metadata": {},
   "outputs": [],
   "source": [
    "def is_valid(url):\n",
    "    \"\"\"\n",
    "    Checks whether `url` is a valid URL.\n",
    "    \"\"\"\n",
    "    parsed = urlparse(url)\n",
    "    return bool(parsed.netloc) and bool(parsed.scheme)"
   ]
  },
  {
   "cell_type": "code",
   "execution_count": 45,
   "id": "9efdf126-5071-4ccf-8a58-eb271f317da7",
   "metadata": {},
   "outputs": [],
   "source": [
    "url = \"https://www.volvocars.com/zh-cn/v/cars/c40-electric\""
   ]
  },
  {
   "cell_type": "code",
   "execution_count": 46,
   "id": "1bd85958-25f9-4df0-b5a8-f68138bf24be",
   "metadata": {},
   "outputs": [
    {
     "name": "stdout",
     "output_type": "stream",
     "text": [
      "www.volvocars.com\n",
      "https\n"
     ]
    }
   ],
   "source": [
    "parsed = urlparse(url)\n",
    "print(parsed.netloc)\n",
    "print(parsed.scheme)"
   ]
  },
  {
   "cell_type": "code",
   "execution_count": 47,
   "id": "73613ecf-90da-406f-b237-7157a6ee2e17",
   "metadata": {},
   "outputs": [
    {
     "data": {
      "text/plain": [
       "True"
      ]
     },
     "execution_count": 47,
     "metadata": {},
     "output_type": "execute_result"
    }
   ],
   "source": [
    "is_valid(url)"
   ]
  },
  {
   "cell_type": "code",
   "execution_count": 8,
   "id": "73a9e5b2-0ce2-4584-8491-aabe0620e8cb",
   "metadata": {},
   "outputs": [],
   "source": [
    "def get_all_images(url):\n",
    "    \"\"\"\n",
    "    Returns all image URLs on a single `url`\n",
    "    \"\"\"\n",
    "    soup = bs(requests.get(url).content, \"html.parser\")\n",
    "    \n",
    "    urls = []\n",
    "    \n",
    "    for img in tqdm(soup.find_all(\"img\"), \"Extracting images\"):\n",
    "        img_url = img.attrs.get(\"src\")\n",
    "        if not img_url:\n",
    "            # if img does not contain src attribute, just skip\n",
    "            continue\n",
    "        \n",
    "        # make the URL absolute by joining domain with the URL that is just extracted\n",
    "        img_url = urljoin(url, img_url)\n",
    "        try:\n",
    "            pos = img_url.index(\"?\")\n",
    "            img_url = img_url[:pos]\n",
    "        except ValueError:\n",
    "            pass\n",
    "        # finally, if the url is valid\n",
    "        if is_valid(img_url):\n",
    "            urls.append(img_url)\n",
    "    return urls"
   ]
  },
  {
   "cell_type": "code",
   "execution_count": 48,
   "id": "77fd35ab-f9a4-41dc-a896-c79b747e0f40",
   "metadata": {},
   "outputs": [
    {
     "name": "stderr",
     "output_type": "stream",
     "text": [
      "Extracting images: 100%|██████████| 18/18 [00:00<00:00, 37957.50it/s]\n"
     ]
    }
   ],
   "source": [
    "imgs = get_all_images(url)"
   ]
  },
  {
   "cell_type": "code",
   "execution_count": 49,
   "id": "9484de22-697c-4f82-affc-8918da633e72",
   "metadata": {},
   "outputs": [],
   "source": [
    "imgs = [x for x in imgs if '.jpg' in x]"
   ]
  },
  {
   "cell_type": "code",
   "execution_count": 50,
   "id": "2a462ee0-2271-4c41-9222-528499008fb8",
   "metadata": {},
   "outputs": [
    {
     "data": {
      "text/plain": [
       "['https://www.volvocars.com/images/v/cn/-/media/market-assets/china/applications/dotcom/images/pdp/my22/c40/gallery-grid/c40-gallary-grid/c40-recharge-scattered-gallery-1-4x3.jpg',\n",
       " 'https://www.volvocars.com/images/v/cn/-/media/project/contentplatform/data/media/my22/c40/c40-recharge-scattered-gallery-3-4x3.jpg',\n",
       " 'https://www.volvocars.com/images/v/cn/-/media/project/contentplatform/data/media/my22/c40/c40-recharge-two-tiles-grid-2-1x1.jpg',\n",
       " 'https://www.volvocars.com/images/v/cn/-/media/market-assets/china/applications/dotcom/images/my22/hero-image/c40-recharge-promoted-vehicle-4x5.jpg']"
      ]
     },
     "execution_count": 50,
     "metadata": {},
     "output_type": "execute_result"
    }
   ],
   "source": [
    "imgs"
   ]
  },
  {
   "cell_type": "code",
   "execution_count": 56,
   "id": "fea030cc-ad41-4879-9f7b-d3bd5c0413b3",
   "metadata": {},
   "outputs": [],
   "source": [
    "def download(url, pathname):\n",
    "    \"\"\"\n",
    "    Downloads a file given an URL and puts it in the folder `pathname`\n",
    "    \"\"\"\n",
    "    # if path doesn't exist, make that path dir\n",
    "    if not os.path.isdir(pathname):\n",
    "        os.makedirs(pathname)\n",
    "    # download the body of response by chunk, not immediately\n",
    "    response = requests.get(url, stream=True)\n",
    "    # get the total file size\n",
    "    file_size = int(response.headers.get(\"Content-Length\", 0))\n",
    "    # get the file name\n",
    "    filename = os.path.join(pathname, url.split(\"/\")[-1])\n",
    "    # progress bar, changing the unit to bytes instead of iteration (default by tqdm)\n",
    "    progress = tqdm(response.iter_content(1024), f\"Downloading {filename}\", total=file_size, unit=\"B\", unit_scale=True, unit_divisor=1024)\n",
    "    with open(filename, \"wb\") as f:\n",
    "        for data in progress.iterable:\n",
    "            # write data read to the file\n",
    "            f.write(data)\n",
    "            # update the progress bar manually\n",
    "            progress.update(len(data))"
   ]
  },
  {
   "cell_type": "code",
   "execution_count": 57,
   "id": "eae8f485-85c0-4ad8-bf9b-eafbe7cb0627",
   "metadata": {},
   "outputs": [
    {
     "name": "stderr",
     "output_type": "stream",
     "text": [
      "Downloading img/c40-recharge-scattered-gallery-1-4x3.jpg: 100%|██████████| 93.7k/93.7k [00:00<00:00, 3.55MB/s]\n",
      "Downloading img/c40-recharge-scattered-gallery-3-4x3.jpg: 100%|██████████| 415k/415k [00:00<00:00, 4.05MB/s]\n",
      "Downloading img/c40-recharge-two-tiles-grid-2-1x1.jpg: 100%|██████████| 661k/661k [00:00<00:00, 5.56MB/s]\n",
      "Downloading img/c40-recharge-promoted-vehicle-4x5.jpg: 100%|██████████| 240k/240k [00:00<00:00, 2.74MB/s]\n"
     ]
    }
   ],
   "source": [
    "path = 'img/'\n",
    "for img in imgs:\n",
    "    # for each image, download it\n",
    "    download(img, path)"
   ]
  },
  {
   "cell_type": "code",
   "execution_count": null,
   "id": "ddf7fdee-7993-4a6e-908f-a7eb5f8eace4",
   "metadata": {},
   "outputs": [],
   "source": []
  },
  {
   "cell_type": "code",
   "execution_count": null,
   "id": "7941c763-c096-473a-8505-091fb10c592a",
   "metadata": {},
   "outputs": [],
   "source": []
  },
  {
   "cell_type": "code",
   "execution_count": 18,
   "id": "6690f616-c1c6-4cbf-94ee-b6a7d2dfcb4d",
   "metadata": {},
   "outputs": [],
   "source": [
    "def crop_center(image):\n",
    "    \"\"\"Returns a cropped square image.\"\"\"\n",
    "    shape = image.shape\n",
    "    new_shape = min(shape[1], shape[2])\n",
    "    offset_y = max(shape[1] - shape[2], 0) // 2\n",
    "    offset_x = max(shape[2] - shape[1], 0) // 2\n",
    "    image = tf.image.crop_to_bounding_box(image, offset_y, offset_x, new_shape, new_shape)\n",
    "    return image\n",
    "\n",
    "@functools.lru_cache(maxsize=None)\n",
    "def load_image(image_url, image_size=(256, 256), preserve_aspect_ratio=True):\n",
    "    \"\"\"Loads and preprocesses images.\"\"\"\n",
    "    # Cache image file locally.\n",
    "    image_path = tf.keras.utils.get_file(os.path.basename(image_url)[-128:], image_url)\n",
    "    # Load and convert to float32 numpy array, add batch dimension, and normalize to range [0, 1].\n",
    "    img = tf.io.decode_image(\n",
    "        tf.io.read_file(image_path),\n",
    "        channels=3, dtype=tf.float32)[tf.newaxis, ...]\n",
    "    img = crop_center(img)\n",
    "    img = tf.image.resize(img, image_size, preserve_aspect_ratio=True)\n",
    "    return img"
   ]
  },
  {
   "cell_type": "code",
   "execution_count": 51,
   "id": "affe23cf-890f-49fa-a0fb-027d896064dc",
   "metadata": {},
   "outputs": [
    {
     "data": {
      "text/plain": [
       "{'c40-recharge-scattered-gallery-1-4x3': 'https://www.volvocars.com/images/v/cn/-/media/market-assets/china/applications/dotcom/images/pdp/my22/c40/gallery-grid/c40-gallary-grid/c40-recharge-scattered-gallery-1-4x3.jpg',\n",
       " 'c40-recharge-scattered-gallery-3-4x3': 'https://www.volvocars.com/images/v/cn/-/media/project/contentplatform/data/media/my22/c40/c40-recharge-scattered-gallery-3-4x3.jpg',\n",
       " 'c40-recharge-two-tiles-grid-2-1x1': 'https://www.volvocars.com/images/v/cn/-/media/project/contentplatform/data/media/my22/c40/c40-recharge-two-tiles-grid-2-1x1.jpg',\n",
       " 'c40-recharge-promoted-vehicle-4x5': 'https://www.volvocars.com/images/v/cn/-/media/market-assets/china/applications/dotcom/images/my22/hero-image/c40-recharge-promoted-vehicle-4x5.jpg'}"
      ]
     },
     "execution_count": 51,
     "metadata": {},
     "output_type": "execute_result"
    }
   ],
   "source": [
    "content_urls = dict()\n",
    "\n",
    "for i in imgs:\n",
    "    t = i.split('/')[-1].split('.')[0]\n",
    "    content_urls[t] = i\n",
    "\n",
    "content_urls"
   ]
  },
  {
   "cell_type": "code",
   "execution_count": 55,
   "id": "83b72dd9-0e4d-43fe-9f9a-d10efac73157",
   "metadata": {},
   "outputs": [],
   "source": [
    "# content_image_size = 384\n",
    "\n",
    "# content_images = {k: load_image(v, (content_image_size, content_image_size)) for k, v in content_urls.items()}"
   ]
  },
  {
   "cell_type": "code",
   "execution_count": null,
   "id": "09bb175a-06cb-49c9-b7d9-3e2c350a7127",
   "metadata": {},
   "outputs": [],
   "source": []
  }
 ],
 "metadata": {
  "kernelspec": {
   "display_name": "Python 3 (ipykernel)",
   "language": "python",
   "name": "python3"
  },
  "language_info": {
   "codemirror_mode": {
    "name": "ipython",
    "version": 3
   },
   "file_extension": ".py",
   "mimetype": "text/x-python",
   "name": "python",
   "nbconvert_exporter": "python",
   "pygments_lexer": "ipython3",
   "version": "3.8.8"
  }
 },
 "nbformat": 4,
 "nbformat_minor": 5
}
